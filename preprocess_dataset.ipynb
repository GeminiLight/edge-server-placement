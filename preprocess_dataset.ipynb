{
 "cells": [
  {
   "cell_type": "code",
   "execution_count": 1,
   "metadata": {},
   "outputs": [],
   "source": [
    "import numpy as np\n",
    "import pandas as pd"
   ]
  },
  {
   "cell_type": "code",
   "execution_count": 2,
   "metadata": {},
   "outputs": [],
   "source": [
    "record = pd.read_excel('./dataset/data_6.1~6.15.xlsx')"
   ]
  },
  {
   "cell_type": "code",
   "execution_count": 5,
   "metadata": {},
   "outputs": [
    {
     "data": {
      "text/html": [
       "<div>\n",
       "<style scoped>\n",
       "    .dataframe tbody tr th:only-of-type {\n",
       "        vertical-align: middle;\n",
       "    }\n",
       "\n",
       "    .dataframe tbody tr th {\n",
       "        vertical-align: top;\n",
       "    }\n",
       "\n",
       "    .dataframe thead th {\n",
       "        text-align: right;\n",
       "    }\n",
       "</style>\n",
       "<table border=\"1\" class=\"dataframe\">\n",
       "  <thead>\n",
       "    <tr style=\"text-align: right;\">\n",
       "      <th></th>\n",
       "      <th>month</th>\n",
       "      <th>date</th>\n",
       "      <th>start time</th>\n",
       "      <th>end time</th>\n",
       "      <th>latitude</th>\n",
       "      <th>longitude</th>\n",
       "      <th>user id</th>\n",
       "    </tr>\n",
       "  </thead>\n",
       "  <tbody>\n",
       "    <tr>\n",
       "      <th>0</th>\n",
       "      <td>201406</td>\n",
       "      <td>1</td>\n",
       "      <td>2014-06-01 10:22:36</td>\n",
       "      <td>2014-06-01 11:09:52</td>\n",
       "      <td>31.237872</td>\n",
       "      <td>121.470259</td>\n",
       "      <td>edbc54bddf16494a49f39ac057b4185d</td>\n",
       "    </tr>\n",
       "    <tr>\n",
       "      <th>1</th>\n",
       "      <td>201406</td>\n",
       "      <td>1</td>\n",
       "      <td>2014-06-01 07:00:37</td>\n",
       "      <td>2014-06-01 08:49:20</td>\n",
       "      <td>31.237872</td>\n",
       "      <td>121.470259</td>\n",
       "      <td>f8206ab58b9bdb070673f7050242e9ee</td>\n",
       "    </tr>\n",
       "    <tr>\n",
       "      <th>2</th>\n",
       "      <td>201406</td>\n",
       "      <td>1</td>\n",
       "      <td>2014-06-01 02:49:16</td>\n",
       "      <td>2014-06-01 05:49:12</td>\n",
       "      <td>31.237872</td>\n",
       "      <td>121.470259</td>\n",
       "      <td>f8206ab58b9bdb070673f7050242e9ee</td>\n",
       "    </tr>\n",
       "    <tr>\n",
       "      <th>3</th>\n",
       "      <td>201406</td>\n",
       "      <td>1</td>\n",
       "      <td>2014-06-01 08:51:58</td>\n",
       "      <td>2014-06-01 09:20:50</td>\n",
       "      <td>31.237872</td>\n",
       "      <td>121.470259</td>\n",
       "      <td>f8206ab58b9bdb070673f7050242e9ee</td>\n",
       "    </tr>\n",
       "    <tr>\n",
       "      <th>4</th>\n",
       "      <td>201406</td>\n",
       "      <td>1</td>\n",
       "      <td>2014-05-31 23:49:10</td>\n",
       "      <td>2014-06-01 02:49:07</td>\n",
       "      <td>31.237872</td>\n",
       "      <td>121.470259</td>\n",
       "      <td>f8206ab58b9bdb070673f7050242e9ee</td>\n",
       "    </tr>\n",
       "  </tbody>\n",
       "</table>\n",
       "</div>"
      ],
      "text/plain": [
       "    month  date          start time            end time   latitude  \\\n",
       "0  201406     1 2014-06-01 10:22:36 2014-06-01 11:09:52  31.237872   \n",
       "1  201406     1 2014-06-01 07:00:37 2014-06-01 08:49:20  31.237872   \n",
       "2  201406     1 2014-06-01 02:49:16 2014-06-01 05:49:12  31.237872   \n",
       "3  201406     1 2014-06-01 08:51:58 2014-06-01 09:20:50  31.237872   \n",
       "4  201406     1 2014-05-31 23:49:10 2014-06-01 02:49:07  31.237872   \n",
       "\n",
       "    longitude                           user id  \n",
       "0  121.470259  edbc54bddf16494a49f39ac057b4185d  \n",
       "1  121.470259  f8206ab58b9bdb070673f7050242e9ee  \n",
       "2  121.470259  f8206ab58b9bdb070673f7050242e9ee  \n",
       "3  121.470259  f8206ab58b9bdb070673f7050242e9ee  \n",
       "4  121.470259  f8206ab58b9bdb070673f7050242e9ee  "
      ]
     },
     "execution_count": 5,
     "metadata": {},
     "output_type": "execute_result"
    }
   ],
   "source": [
    "record.head()"
   ]
  },
  {
   "cell_type": "code",
   "execution_count": 17,
   "metadata": {},
   "outputs": [],
   "source": [
    "record['address'] = record.apply(lambda x: str(x['latitude']) + '-' + str(x['longitude']), axis=1)"
   ]
  },
  {
   "cell_type": "code",
   "execution_count": 23,
   "metadata": {},
   "outputs": [
    {
     "data": {
      "text/plain": [
       "count      611506\n",
       "unique       2770\n",
       "top       nan-nan\n",
       "freq        47592\n",
       "Name: address, dtype: object"
      ]
     },
     "execution_count": 23,
     "metadata": {},
     "output_type": "execute_result"
    }
   ],
   "source": [
    "record.address.describe()"
   ]
  }
 ],
 "metadata": {
  "interpreter": {
   "hash": "fe245b48eec612fbee62cf5f1e4a377bd40a15fc2ce06ad16b3622723b03fe09"
  },
  "kernelspec": {
   "display_name": "Python 3.9.7 ('torch')",
   "language": "python",
   "name": "python3"
  },
  "language_info": {
   "codemirror_mode": {
    "name": "ipython",
    "version": 3
   },
   "file_extension": ".py",
   "mimetype": "text/x-python",
   "name": "python",
   "nbconvert_exporter": "python",
   "pygments_lexer": "ipython3",
   "version": "3.9.7"
  },
  "orig_nbformat": 4
 },
 "nbformat": 4,
 "nbformat_minor": 2
}
