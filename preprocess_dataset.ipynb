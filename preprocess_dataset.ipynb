{
 "cells": [
  {
   "cell_type": "code",
   "execution_count": 30,
   "metadata": {},
   "outputs": [],
   "source": [
    "import os\n",
    "import numpy as np\n",
    "import pandas as pd"
   ]
  },
  {
   "cell_type": "markdown",
   "metadata": {},
   "source": [
    "## Read Data"
   ]
  },
  {
   "cell_type": "code",
   "execution_count": 34,
   "metadata": {},
   "outputs": [],
   "source": [
    "files_dir = './dataset/raw'\n",
    "file_names = os.listdir(files_dir)\n",
    "file_paths = [os.path.join(files_dir, fname) for fname in file_names]"
   ]
  },
  {
   "cell_type": "code",
   "execution_count": 37,
   "metadata": {},
   "outputs": [],
   "source": [
    "pd_records_list = []\n",
    "\n",
    "for fpath in file_paths:\n",
    "    pd_record = pd.read_excel(fpath)\n",
    "    pd_records_list.append(pd_record)"
   ]
  },
  {
   "cell_type": "code",
   "execution_count": 39,
   "metadata": {},
   "outputs": [],
   "source": [
    "pd_record = pd.concat(pd_records_list)"
   ]
  },
  {
   "cell_type": "markdown",
   "metadata": {},
   "source": [
    "## Data Analysis"
   ]
  },
  {
   "cell_type": "code",
   "execution_count": 45,
   "metadata": {},
   "outputs": [
    {
     "data": {
      "text/plain": [
       "month              0\n",
       "date               0\n",
       "start time         0\n",
       "end time           0\n",
       "latitude      716301\n",
       "longitude     716301\n",
       "user id            0\n",
       "dtype: int64"
      ]
     },
     "execution_count": 45,
     "metadata": {},
     "output_type": "execute_result"
    }
   ],
   "source": [
    "pd_record.isna().sum()"
   ]
  },
  {
   "cell_type": "markdown",
   "metadata": {},
   "source": [
    "## All"
   ]
  },
  {
   "cell_type": "code",
   "execution_count": 47,
   "metadata": {},
   "outputs": [],
   "source": [
    "pd_record_all = pd_record.dropna()"
   ]
  },
  {
   "cell_type": "code",
   "execution_count": 48,
   "metadata": {},
   "outputs": [
    {
     "name": "stderr",
     "output_type": "stream",
     "text": [
      "/var/folders/0b/ycd5f_h93hl0hnllky8xg7700000gn/T/ipykernel_80613/218630576.py:1: SettingWithCopyWarning: \n",
      "A value is trying to be set on a copy of a slice from a DataFrame.\n",
      "Try using .loc[row_indexer,col_indexer] = value instead\n",
      "\n",
      "See the caveats in the documentation: https://pandas.pydata.org/pandas-docs/stable/user_guide/indexing.html#returning-a-view-versus-a-copy\n",
      "  pd_record_all['address'] = pd_record_all.apply(lambda x: str(x['latitude']) + '-' + str(x['longitude']), axis=1)\n"
     ]
    }
   ],
   "source": [
    "pd_record_all['address'] = pd_record_all.apply(lambda x: str(x['latitude']) + '-' + str(x['longitude']), axis=1)"
   ]
  },
  {
   "cell_type": "code",
   "execution_count": 51,
   "metadata": {},
   "outputs": [],
   "source": [
    "pd_record_all.to_csv(f'./dataset/data_all.csv')"
   ]
  },
  {
   "cell_type": "code",
   "execution_count": 56,
   "metadata": {},
   "outputs": [],
   "source": [
    "base_stations = pd_record_all[['latitude', 'longitude', 'address']].drop_duplicates()"
   ]
  },
  {
   "cell_type": "code",
   "execution_count": 75,
   "metadata": {},
   "outputs": [
    {
     "data": {
      "text/html": [
       "<div>\n",
       "<style scoped>\n",
       "    .dataframe tbody tr th:only-of-type {\n",
       "        vertical-align: middle;\n",
       "    }\n",
       "\n",
       "    .dataframe tbody tr th {\n",
       "        vertical-align: top;\n",
       "    }\n",
       "\n",
       "    .dataframe thead th {\n",
       "        text-align: right;\n",
       "    }\n",
       "</style>\n",
       "<table border=\"1\" class=\"dataframe\">\n",
       "  <thead>\n",
       "    <tr style=\"text-align: right;\">\n",
       "      <th></th>\n",
       "      <th>latitude</th>\n",
       "      <th>longitude</th>\n",
       "      <th>address</th>\n",
       "      <th>id</th>\n",
       "    </tr>\n",
       "  </thead>\n",
       "  <tbody>\n",
       "    <tr>\n",
       "      <th>0</th>\n",
       "      <td>31.237872</td>\n",
       "      <td>121.470259</td>\n",
       "      <td>31.237872-121.470259</td>\n",
       "      <td>0</td>\n",
       "    </tr>\n",
       "    <tr>\n",
       "      <th>1</th>\n",
       "      <td>31.246946</td>\n",
       "      <td>121.513919</td>\n",
       "      <td>31.246946-121.513919</td>\n",
       "      <td>1</td>\n",
       "    </tr>\n",
       "    <tr>\n",
       "      <th>2</th>\n",
       "      <td>31.232877</td>\n",
       "      <td>121.487530</td>\n",
       "      <td>31.232877-121.48753</td>\n",
       "      <td>2</td>\n",
       "    </tr>\n",
       "    <tr>\n",
       "      <th>3</th>\n",
       "      <td>31.227933</td>\n",
       "      <td>121.453610</td>\n",
       "      <td>31.227933-121.45361</td>\n",
       "      <td>3</td>\n",
       "    </tr>\n",
       "    <tr>\n",
       "      <th>4</th>\n",
       "      <td>31.235682</td>\n",
       "      <td>121.487831</td>\n",
       "      <td>31.235682-121.487831</td>\n",
       "      <td>4</td>\n",
       "    </tr>\n",
       "    <tr>\n",
       "      <th>...</th>\n",
       "      <td>...</td>\n",
       "      <td>...</td>\n",
       "      <td>...</td>\n",
       "      <td>...</td>\n",
       "    </tr>\n",
       "    <tr>\n",
       "      <th>3037</th>\n",
       "      <td>31.165863</td>\n",
       "      <td>121.398738</td>\n",
       "      <td>31.165863-121.398738</td>\n",
       "      <td>3037</td>\n",
       "    </tr>\n",
       "    <tr>\n",
       "      <th>3038</th>\n",
       "      <td>31.224027</td>\n",
       "      <td>121.423777</td>\n",
       "      <td>31.224027-121.423777</td>\n",
       "      <td>3038</td>\n",
       "    </tr>\n",
       "    <tr>\n",
       "      <th>3039</th>\n",
       "      <td>31.939262</td>\n",
       "      <td>109.456711</td>\n",
       "      <td>31.939262-109.456711</td>\n",
       "      <td>3039</td>\n",
       "    </tr>\n",
       "    <tr>\n",
       "      <th>3040</th>\n",
       "      <td>31.294732</td>\n",
       "      <td>121.496831</td>\n",
       "      <td>31.294732-121.496831</td>\n",
       "      <td>3040</td>\n",
       "    </tr>\n",
       "    <tr>\n",
       "      <th>3041</th>\n",
       "      <td>31.248969</td>\n",
       "      <td>121.473078</td>\n",
       "      <td>31.248969-121.473078</td>\n",
       "      <td>3041</td>\n",
       "    </tr>\n",
       "  </tbody>\n",
       "</table>\n",
       "<p>3042 rows × 4 columns</p>\n",
       "</div>"
      ],
      "text/plain": [
       "       latitude   longitude               address    id\n",
       "0     31.237872  121.470259  31.237872-121.470259     0\n",
       "1     31.246946  121.513919  31.246946-121.513919     1\n",
       "2     31.232877  121.487530   31.232877-121.48753     2\n",
       "3     31.227933  121.453610   31.227933-121.45361     3\n",
       "4     31.235682  121.487831  31.235682-121.487831     4\n",
       "...         ...         ...                   ...   ...\n",
       "3037  31.165863  121.398738  31.165863-121.398738  3037\n",
       "3038  31.224027  121.423777  31.224027-121.423777  3038\n",
       "3039  31.939262  109.456711  31.939262-109.456711  3039\n",
       "3040  31.294732  121.496831  31.294732-121.496831  3040\n",
       "3041  31.248969  121.473078  31.248969-121.473078  3041\n",
       "\n",
       "[3042 rows x 4 columns]"
      ]
     },
     "execution_count": 75,
     "metadata": {},
     "output_type": "execute_result"
    }
   ],
   "source": [
    "base_stations = base_stations.reset_index()\n",
    "base_stations['id'] = base_stations.index\n",
    "base_stations.drop(['index'], axis=1)"
   ]
  },
  {
   "cell_type": "code",
   "execution_count": 76,
   "metadata": {},
   "outputs": [],
   "source": [
    "base_stations.to_csv('./dataset/base_stations_all.csv')"
   ]
  },
  {
   "cell_type": "markdown",
   "metadata": {},
   "source": [
    "## Min"
   ]
  },
  {
   "cell_type": "code",
   "execution_count": 77,
   "metadata": {},
   "outputs": [],
   "source": [
    "pd_record_min =  pd_records_list[0]"
   ]
  },
  {
   "cell_type": "code",
   "execution_count": 78,
   "metadata": {},
   "outputs": [
    {
     "name": "stderr",
     "output_type": "stream",
     "text": [
      "/var/folders/0b/ycd5f_h93hl0hnllky8xg7700000gn/T/ipykernel_80613/1641723281.py:2: SettingWithCopyWarning: \n",
      "A value is trying to be set on a copy of a slice from a DataFrame.\n",
      "Try using .loc[row_indexer,col_indexer] = value instead\n",
      "\n",
      "See the caveats in the documentation: https://pandas.pydata.org/pandas-docs/stable/user_guide/indexing.html#returning-a-view-versus-a-copy\n",
      "  pd_record_min['address'] = pd_record_min.apply(lambda x: str(x['latitude']) + '-' + str(x['longitude']), axis=1)\n"
     ]
    }
   ],
   "source": [
    "pd_record_min = pd_record_min.dropna()\n",
    "pd_record_min['address'] = pd_record_min.apply(lambda x: str(x['latitude']) + '-' + str(x['longitude']), axis=1)\n",
    "pd_record_min.to_csv(f'./dataset/data_min.csv')"
   ]
  },
  {
   "cell_type": "code",
   "execution_count": 79,
   "metadata": {},
   "outputs": [],
   "source": [
    "base_stations_min = pd_record_min[['latitude', 'longitude', 'address']].drop_duplicates()"
   ]
  },
  {
   "cell_type": "code",
   "execution_count": 82,
   "metadata": {},
   "outputs": [
    {
     "data": {
      "text/html": [
       "<div>\n",
       "<style scoped>\n",
       "    .dataframe tbody tr th:only-of-type {\n",
       "        vertical-align: middle;\n",
       "    }\n",
       "\n",
       "    .dataframe tbody tr th {\n",
       "        vertical-align: top;\n",
       "    }\n",
       "\n",
       "    .dataframe thead th {\n",
       "        text-align: right;\n",
       "    }\n",
       "</style>\n",
       "<table border=\"1\" class=\"dataframe\">\n",
       "  <thead>\n",
       "    <tr style=\"text-align: right;\">\n",
       "      <th></th>\n",
       "      <th>level_0</th>\n",
       "      <th>latitude</th>\n",
       "      <th>longitude</th>\n",
       "      <th>address</th>\n",
       "      <th>id</th>\n",
       "    </tr>\n",
       "  </thead>\n",
       "  <tbody>\n",
       "    <tr>\n",
       "      <th>0</th>\n",
       "      <td>0</td>\n",
       "      <td>31.237872</td>\n",
       "      <td>121.470259</td>\n",
       "      <td>31.237872-121.470259</td>\n",
       "      <td>0</td>\n",
       "    </tr>\n",
       "    <tr>\n",
       "      <th>1</th>\n",
       "      <td>1</td>\n",
       "      <td>31.246946</td>\n",
       "      <td>121.513919</td>\n",
       "      <td>31.246946-121.513919</td>\n",
       "      <td>1</td>\n",
       "    </tr>\n",
       "    <tr>\n",
       "      <th>2</th>\n",
       "      <td>2</td>\n",
       "      <td>31.232877</td>\n",
       "      <td>121.487530</td>\n",
       "      <td>31.232877-121.48753</td>\n",
       "      <td>2</td>\n",
       "    </tr>\n",
       "    <tr>\n",
       "      <th>3</th>\n",
       "      <td>3</td>\n",
       "      <td>31.227933</td>\n",
       "      <td>121.453610</td>\n",
       "      <td>31.227933-121.45361</td>\n",
       "      <td>3</td>\n",
       "    </tr>\n",
       "    <tr>\n",
       "      <th>4</th>\n",
       "      <td>4</td>\n",
       "      <td>31.235682</td>\n",
       "      <td>121.487831</td>\n",
       "      <td>31.235682-121.487831</td>\n",
       "      <td>4</td>\n",
       "    </tr>\n",
       "    <tr>\n",
       "      <th>...</th>\n",
       "      <td>...</td>\n",
       "      <td>...</td>\n",
       "      <td>...</td>\n",
       "      <td>...</td>\n",
       "      <td>...</td>\n",
       "    </tr>\n",
       "    <tr>\n",
       "      <th>2764</th>\n",
       "      <td>2764</td>\n",
       "      <td>31.286523</td>\n",
       "      <td>121.538876</td>\n",
       "      <td>31.286523-121.538876</td>\n",
       "      <td>2764</td>\n",
       "    </tr>\n",
       "    <tr>\n",
       "      <th>2765</th>\n",
       "      <td>2765</td>\n",
       "      <td>31.254745</td>\n",
       "      <td>121.556081</td>\n",
       "      <td>31.254745-121.556081</td>\n",
       "      <td>2765</td>\n",
       "    </tr>\n",
       "    <tr>\n",
       "      <th>2766</th>\n",
       "      <td>2766</td>\n",
       "      <td>31.224006</td>\n",
       "      <td>121.423572</td>\n",
       "      <td>31.224006-121.423572</td>\n",
       "      <td>2766</td>\n",
       "    </tr>\n",
       "    <tr>\n",
       "      <th>2767</th>\n",
       "      <td>2767</td>\n",
       "      <td>31.209070</td>\n",
       "      <td>121.436851</td>\n",
       "      <td>31.20907-121.436851</td>\n",
       "      <td>2767</td>\n",
       "    </tr>\n",
       "    <tr>\n",
       "      <th>2768</th>\n",
       "      <td>2768</td>\n",
       "      <td>31.246433</td>\n",
       "      <td>121.443184</td>\n",
       "      <td>31.246433-121.443184</td>\n",
       "      <td>2768</td>\n",
       "    </tr>\n",
       "  </tbody>\n",
       "</table>\n",
       "<p>2769 rows × 5 columns</p>\n",
       "</div>"
      ],
      "text/plain": [
       "      level_0   latitude   longitude               address    id\n",
       "0           0  31.237872  121.470259  31.237872-121.470259     0\n",
       "1           1  31.246946  121.513919  31.246946-121.513919     1\n",
       "2           2  31.232877  121.487530   31.232877-121.48753     2\n",
       "3           3  31.227933  121.453610   31.227933-121.45361     3\n",
       "4           4  31.235682  121.487831  31.235682-121.487831     4\n",
       "...       ...        ...         ...                   ...   ...\n",
       "2764     2764  31.286523  121.538876  31.286523-121.538876  2764\n",
       "2765     2765  31.254745  121.556081  31.254745-121.556081  2765\n",
       "2766     2766  31.224006  121.423572  31.224006-121.423572  2766\n",
       "2767     2767  31.209070  121.436851   31.20907-121.436851  2767\n",
       "2768     2768  31.246433  121.443184  31.246433-121.443184  2768\n",
       "\n",
       "[2769 rows x 5 columns]"
      ]
     },
     "execution_count": 82,
     "metadata": {},
     "output_type": "execute_result"
    }
   ],
   "source": [
    "base_stations_min = base_stations_min.reset_index()\n",
    "base_stations_min['id'] = base_stations_min.index\n",
    "base_stations_min.drop(['index'], axis=1)"
   ]
  },
  {
   "cell_type": "code",
   "execution_count": 83,
   "metadata": {},
   "outputs": [],
   "source": [
    "base_stations_min.to_csv('./dataset/base_stations_min.csv')"
   ]
  }
 ],
 "metadata": {
  "interpreter": {
   "hash": "fe245b48eec612fbee62cf5f1e4a377bd40a15fc2ce06ad16b3622723b03fe09"
  },
  "kernelspec": {
   "display_name": "Python 3.9.7 ('torch')",
   "language": "python",
   "name": "python3"
  },
  "language_info": {
   "codemirror_mode": {
    "name": "ipython",
    "version": 3
   },
   "file_extension": ".py",
   "mimetype": "text/x-python",
   "name": "python",
   "nbconvert_exporter": "python",
   "pygments_lexer": "ipython3",
   "version": "3.9.7"
  },
  "orig_nbformat": 4
 },
 "nbformat": 4,
 "nbformat_minor": 2
}
